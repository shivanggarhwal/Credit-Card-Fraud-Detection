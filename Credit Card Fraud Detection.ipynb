{
 "cells": [
  {
   "cell_type": "code",
   "execution_count": 2,
   "metadata": {},
   "outputs": [],
   "source": [
    "## Data Preperation Libraries\n",
    "import numpy as np\n",
    "import pandas as pd\n",
    "import matplotlib.pyplot as plt\n",
    "from sklearn.preprocessing import StandardScaler\n",
    "from sklearn.model_selection import train_test_split\n",
    "from sklearn import preprocessing\n",
    "## Support Vector Machine Libraries\n",
    "from sklearn import svm\n",
    "## Decision Tree Libraries\n",
    "from sklearn import tree\n",
    "## Adaboost Libraries\n",
    "from sklearn.ensemble import AdaBoostClassifier\n",
    "from sklearn.tree import DecisionTreeClassifier\n",
    "## Cross Validation Libraries \n",
    "from sklearn.model_selection import cross_val_score\n",
    "from sklearn.model_selection import cross_validate\n",
    "## Library for plotting\n",
    "# import matplotlib.pyplot as plt\n",
    "## Library for calculating performance metrics\n",
    "from sklearn.metrics import classification_report, confusion_matrix  \n",
    "from sklearn.metrics import accuracy_score,roc_curve, auc\n",
    "from sklearn import metrics\n",
    "from sklearn.tree import DecisionTreeClassifier\n",
    "from sklearn.tree import DecisionTreeRegressor\n",
    "from sklearn.ensemble import AdaBoostRegressor\n",
    "import warnings\n",
    "from plotly.offline import download_plotlyjs, init_notebook_mode, plot, iplot\n",
    "import seaborn as sns\n",
    "import os\n",
    "import time\n",
    "#Setting options\n",
    "init_notebook_mode(connected=True)\n",
    "warnings.filterwarnings(\"ignore\")\n",
    "\n",
    "#Set Default option\n",
    "from IPython.core.display import display, HTML\n",
    "display(HTML(\"<style>.container { width:90% !important; }</style>\"))\n",
    "pd.options.display.max_rows = 3000"
   ]
  },
  {
   "cell_type": "code",
   "execution_count": 3,
   "metadata": {},
   "outputs": [],
   "source": [
    "sc = StandardScaler()"
   ]
  },
  {
   "cell_type": "code",
   "execution_count": 4,
   "metadata": {},
   "outputs": [],
   "source": [
    "data = pd.read_csv('C:\\\\Users\\\\14692\\\\Documents\\\\Sem-II\\ML\\\\creditcardfraud\\\\creditcard.csv')"
   ]
  },
  {
   "cell_type": "code",
   "execution_count": 5,
   "metadata": {},
   "outputs": [
    {
     "data": {
      "text/html": [
       "<div>\n",
       "<style scoped>\n",
       "    .dataframe tbody tr th:only-of-type {\n",
       "        vertical-align: middle;\n",
       "    }\n",
       "\n",
       "    .dataframe tbody tr th {\n",
       "        vertical-align: top;\n",
       "    }\n",
       "\n",
       "    .dataframe thead th {\n",
       "        text-align: right;\n",
       "    }\n",
       "</style>\n",
       "<table border=\"1\" class=\"dataframe\">\n",
       "  <thead>\n",
       "    <tr style=\"text-align: right;\">\n",
       "      <th></th>\n",
       "      <th>Time</th>\n",
       "      <th>V1</th>\n",
       "      <th>V2</th>\n",
       "      <th>V3</th>\n",
       "      <th>V4</th>\n",
       "      <th>V5</th>\n",
       "      <th>V6</th>\n",
       "      <th>V7</th>\n",
       "      <th>V8</th>\n",
       "      <th>V9</th>\n",
       "      <th>...</th>\n",
       "      <th>V21</th>\n",
       "      <th>V22</th>\n",
       "      <th>V23</th>\n",
       "      <th>V24</th>\n",
       "      <th>V25</th>\n",
       "      <th>V26</th>\n",
       "      <th>V27</th>\n",
       "      <th>V28</th>\n",
       "      <th>Amount</th>\n",
       "      <th>Class</th>\n",
       "    </tr>\n",
       "  </thead>\n",
       "  <tbody>\n",
       "    <tr>\n",
       "      <td>0</td>\n",
       "      <td>0.0</td>\n",
       "      <td>-1.359807</td>\n",
       "      <td>-0.072781</td>\n",
       "      <td>2.536347</td>\n",
       "      <td>1.378155</td>\n",
       "      <td>-0.338321</td>\n",
       "      <td>0.462388</td>\n",
       "      <td>0.239599</td>\n",
       "      <td>0.098698</td>\n",
       "      <td>0.363787</td>\n",
       "      <td>...</td>\n",
       "      <td>-0.018307</td>\n",
       "      <td>0.277838</td>\n",
       "      <td>-0.110474</td>\n",
       "      <td>0.066928</td>\n",
       "      <td>0.128539</td>\n",
       "      <td>-0.189115</td>\n",
       "      <td>0.133558</td>\n",
       "      <td>-0.021053</td>\n",
       "      <td>149.62</td>\n",
       "      <td>0</td>\n",
       "    </tr>\n",
       "    <tr>\n",
       "      <td>1</td>\n",
       "      <td>0.0</td>\n",
       "      <td>1.191857</td>\n",
       "      <td>0.266151</td>\n",
       "      <td>0.166480</td>\n",
       "      <td>0.448154</td>\n",
       "      <td>0.060018</td>\n",
       "      <td>-0.082361</td>\n",
       "      <td>-0.078803</td>\n",
       "      <td>0.085102</td>\n",
       "      <td>-0.255425</td>\n",
       "      <td>...</td>\n",
       "      <td>-0.225775</td>\n",
       "      <td>-0.638672</td>\n",
       "      <td>0.101288</td>\n",
       "      <td>-0.339846</td>\n",
       "      <td>0.167170</td>\n",
       "      <td>0.125895</td>\n",
       "      <td>-0.008983</td>\n",
       "      <td>0.014724</td>\n",
       "      <td>2.69</td>\n",
       "      <td>0</td>\n",
       "    </tr>\n",
       "    <tr>\n",
       "      <td>2</td>\n",
       "      <td>1.0</td>\n",
       "      <td>-1.358354</td>\n",
       "      <td>-1.340163</td>\n",
       "      <td>1.773209</td>\n",
       "      <td>0.379780</td>\n",
       "      <td>-0.503198</td>\n",
       "      <td>1.800499</td>\n",
       "      <td>0.791461</td>\n",
       "      <td>0.247676</td>\n",
       "      <td>-1.514654</td>\n",
       "      <td>...</td>\n",
       "      <td>0.247998</td>\n",
       "      <td>0.771679</td>\n",
       "      <td>0.909412</td>\n",
       "      <td>-0.689281</td>\n",
       "      <td>-0.327642</td>\n",
       "      <td>-0.139097</td>\n",
       "      <td>-0.055353</td>\n",
       "      <td>-0.059752</td>\n",
       "      <td>378.66</td>\n",
       "      <td>0</td>\n",
       "    </tr>\n",
       "    <tr>\n",
       "      <td>3</td>\n",
       "      <td>1.0</td>\n",
       "      <td>-0.966272</td>\n",
       "      <td>-0.185226</td>\n",
       "      <td>1.792993</td>\n",
       "      <td>-0.863291</td>\n",
       "      <td>-0.010309</td>\n",
       "      <td>1.247203</td>\n",
       "      <td>0.237609</td>\n",
       "      <td>0.377436</td>\n",
       "      <td>-1.387024</td>\n",
       "      <td>...</td>\n",
       "      <td>-0.108300</td>\n",
       "      <td>0.005274</td>\n",
       "      <td>-0.190321</td>\n",
       "      <td>-1.175575</td>\n",
       "      <td>0.647376</td>\n",
       "      <td>-0.221929</td>\n",
       "      <td>0.062723</td>\n",
       "      <td>0.061458</td>\n",
       "      <td>123.50</td>\n",
       "      <td>0</td>\n",
       "    </tr>\n",
       "    <tr>\n",
       "      <td>4</td>\n",
       "      <td>2.0</td>\n",
       "      <td>-1.158233</td>\n",
       "      <td>0.877737</td>\n",
       "      <td>1.548718</td>\n",
       "      <td>0.403034</td>\n",
       "      <td>-0.407193</td>\n",
       "      <td>0.095921</td>\n",
       "      <td>0.592941</td>\n",
       "      <td>-0.270533</td>\n",
       "      <td>0.817739</td>\n",
       "      <td>...</td>\n",
       "      <td>-0.009431</td>\n",
       "      <td>0.798278</td>\n",
       "      <td>-0.137458</td>\n",
       "      <td>0.141267</td>\n",
       "      <td>-0.206010</td>\n",
       "      <td>0.502292</td>\n",
       "      <td>0.219422</td>\n",
       "      <td>0.215153</td>\n",
       "      <td>69.99</td>\n",
       "      <td>0</td>\n",
       "    </tr>\n",
       "    <tr>\n",
       "      <td>...</td>\n",
       "      <td>...</td>\n",
       "      <td>...</td>\n",
       "      <td>...</td>\n",
       "      <td>...</td>\n",
       "      <td>...</td>\n",
       "      <td>...</td>\n",
       "      <td>...</td>\n",
       "      <td>...</td>\n",
       "      <td>...</td>\n",
       "      <td>...</td>\n",
       "      <td>...</td>\n",
       "      <td>...</td>\n",
       "      <td>...</td>\n",
       "      <td>...</td>\n",
       "      <td>...</td>\n",
       "      <td>...</td>\n",
       "      <td>...</td>\n",
       "      <td>...</td>\n",
       "      <td>...</td>\n",
       "      <td>...</td>\n",
       "      <td>...</td>\n",
       "    </tr>\n",
       "    <tr>\n",
       "      <td>284802</td>\n",
       "      <td>172786.0</td>\n",
       "      <td>-11.881118</td>\n",
       "      <td>10.071785</td>\n",
       "      <td>-9.834783</td>\n",
       "      <td>-2.066656</td>\n",
       "      <td>-5.364473</td>\n",
       "      <td>-2.606837</td>\n",
       "      <td>-4.918215</td>\n",
       "      <td>7.305334</td>\n",
       "      <td>1.914428</td>\n",
       "      <td>...</td>\n",
       "      <td>0.213454</td>\n",
       "      <td>0.111864</td>\n",
       "      <td>1.014480</td>\n",
       "      <td>-0.509348</td>\n",
       "      <td>1.436807</td>\n",
       "      <td>0.250034</td>\n",
       "      <td>0.943651</td>\n",
       "      <td>0.823731</td>\n",
       "      <td>0.77</td>\n",
       "      <td>0</td>\n",
       "    </tr>\n",
       "    <tr>\n",
       "      <td>284803</td>\n",
       "      <td>172787.0</td>\n",
       "      <td>-0.732789</td>\n",
       "      <td>-0.055080</td>\n",
       "      <td>2.035030</td>\n",
       "      <td>-0.738589</td>\n",
       "      <td>0.868229</td>\n",
       "      <td>1.058415</td>\n",
       "      <td>0.024330</td>\n",
       "      <td>0.294869</td>\n",
       "      <td>0.584800</td>\n",
       "      <td>...</td>\n",
       "      <td>0.214205</td>\n",
       "      <td>0.924384</td>\n",
       "      <td>0.012463</td>\n",
       "      <td>-1.016226</td>\n",
       "      <td>-0.606624</td>\n",
       "      <td>-0.395255</td>\n",
       "      <td>0.068472</td>\n",
       "      <td>-0.053527</td>\n",
       "      <td>24.79</td>\n",
       "      <td>0</td>\n",
       "    </tr>\n",
       "    <tr>\n",
       "      <td>284804</td>\n",
       "      <td>172788.0</td>\n",
       "      <td>1.919565</td>\n",
       "      <td>-0.301254</td>\n",
       "      <td>-3.249640</td>\n",
       "      <td>-0.557828</td>\n",
       "      <td>2.630515</td>\n",
       "      <td>3.031260</td>\n",
       "      <td>-0.296827</td>\n",
       "      <td>0.708417</td>\n",
       "      <td>0.432454</td>\n",
       "      <td>...</td>\n",
       "      <td>0.232045</td>\n",
       "      <td>0.578229</td>\n",
       "      <td>-0.037501</td>\n",
       "      <td>0.640134</td>\n",
       "      <td>0.265745</td>\n",
       "      <td>-0.087371</td>\n",
       "      <td>0.004455</td>\n",
       "      <td>-0.026561</td>\n",
       "      <td>67.88</td>\n",
       "      <td>0</td>\n",
       "    </tr>\n",
       "    <tr>\n",
       "      <td>284805</td>\n",
       "      <td>172788.0</td>\n",
       "      <td>-0.240440</td>\n",
       "      <td>0.530483</td>\n",
       "      <td>0.702510</td>\n",
       "      <td>0.689799</td>\n",
       "      <td>-0.377961</td>\n",
       "      <td>0.623708</td>\n",
       "      <td>-0.686180</td>\n",
       "      <td>0.679145</td>\n",
       "      <td>0.392087</td>\n",
       "      <td>...</td>\n",
       "      <td>0.265245</td>\n",
       "      <td>0.800049</td>\n",
       "      <td>-0.163298</td>\n",
       "      <td>0.123205</td>\n",
       "      <td>-0.569159</td>\n",
       "      <td>0.546668</td>\n",
       "      <td>0.108821</td>\n",
       "      <td>0.104533</td>\n",
       "      <td>10.00</td>\n",
       "      <td>0</td>\n",
       "    </tr>\n",
       "    <tr>\n",
       "      <td>284806</td>\n",
       "      <td>172792.0</td>\n",
       "      <td>-0.533413</td>\n",
       "      <td>-0.189733</td>\n",
       "      <td>0.703337</td>\n",
       "      <td>-0.506271</td>\n",
       "      <td>-0.012546</td>\n",
       "      <td>-0.649617</td>\n",
       "      <td>1.577006</td>\n",
       "      <td>-0.414650</td>\n",
       "      <td>0.486180</td>\n",
       "      <td>...</td>\n",
       "      <td>0.261057</td>\n",
       "      <td>0.643078</td>\n",
       "      <td>0.376777</td>\n",
       "      <td>0.008797</td>\n",
       "      <td>-0.473649</td>\n",
       "      <td>-0.818267</td>\n",
       "      <td>-0.002415</td>\n",
       "      <td>0.013649</td>\n",
       "      <td>217.00</td>\n",
       "      <td>0</td>\n",
       "    </tr>\n",
       "  </tbody>\n",
       "</table>\n",
       "<p>284807 rows × 31 columns</p>\n",
       "</div>"
      ],
      "text/plain": [
       "            Time         V1         V2        V3        V4        V5  \\\n",
       "0            0.0  -1.359807  -0.072781  2.536347  1.378155 -0.338321   \n",
       "1            0.0   1.191857   0.266151  0.166480  0.448154  0.060018   \n",
       "2            1.0  -1.358354  -1.340163  1.773209  0.379780 -0.503198   \n",
       "3            1.0  -0.966272  -0.185226  1.792993 -0.863291 -0.010309   \n",
       "4            2.0  -1.158233   0.877737  1.548718  0.403034 -0.407193   \n",
       "...          ...        ...        ...       ...       ...       ...   \n",
       "284802  172786.0 -11.881118  10.071785 -9.834783 -2.066656 -5.364473   \n",
       "284803  172787.0  -0.732789  -0.055080  2.035030 -0.738589  0.868229   \n",
       "284804  172788.0   1.919565  -0.301254 -3.249640 -0.557828  2.630515   \n",
       "284805  172788.0  -0.240440   0.530483  0.702510  0.689799 -0.377961   \n",
       "284806  172792.0  -0.533413  -0.189733  0.703337 -0.506271 -0.012546   \n",
       "\n",
       "              V6        V7        V8        V9  ...       V21       V22  \\\n",
       "0       0.462388  0.239599  0.098698  0.363787  ... -0.018307  0.277838   \n",
       "1      -0.082361 -0.078803  0.085102 -0.255425  ... -0.225775 -0.638672   \n",
       "2       1.800499  0.791461  0.247676 -1.514654  ...  0.247998  0.771679   \n",
       "3       1.247203  0.237609  0.377436 -1.387024  ... -0.108300  0.005274   \n",
       "4       0.095921  0.592941 -0.270533  0.817739  ... -0.009431  0.798278   \n",
       "...          ...       ...       ...       ...  ...       ...       ...   \n",
       "284802 -2.606837 -4.918215  7.305334  1.914428  ...  0.213454  0.111864   \n",
       "284803  1.058415  0.024330  0.294869  0.584800  ...  0.214205  0.924384   \n",
       "284804  3.031260 -0.296827  0.708417  0.432454  ...  0.232045  0.578229   \n",
       "284805  0.623708 -0.686180  0.679145  0.392087  ...  0.265245  0.800049   \n",
       "284806 -0.649617  1.577006 -0.414650  0.486180  ...  0.261057  0.643078   \n",
       "\n",
       "             V23       V24       V25       V26       V27       V28  Amount  \\\n",
       "0      -0.110474  0.066928  0.128539 -0.189115  0.133558 -0.021053  149.62   \n",
       "1       0.101288 -0.339846  0.167170  0.125895 -0.008983  0.014724    2.69   \n",
       "2       0.909412 -0.689281 -0.327642 -0.139097 -0.055353 -0.059752  378.66   \n",
       "3      -0.190321 -1.175575  0.647376 -0.221929  0.062723  0.061458  123.50   \n",
       "4      -0.137458  0.141267 -0.206010  0.502292  0.219422  0.215153   69.99   \n",
       "...          ...       ...       ...       ...       ...       ...     ...   \n",
       "284802  1.014480 -0.509348  1.436807  0.250034  0.943651  0.823731    0.77   \n",
       "284803  0.012463 -1.016226 -0.606624 -0.395255  0.068472 -0.053527   24.79   \n",
       "284804 -0.037501  0.640134  0.265745 -0.087371  0.004455 -0.026561   67.88   \n",
       "284805 -0.163298  0.123205 -0.569159  0.546668  0.108821  0.104533   10.00   \n",
       "284806  0.376777  0.008797 -0.473649 -0.818267 -0.002415  0.013649  217.00   \n",
       "\n",
       "        Class  \n",
       "0           0  \n",
       "1           0  \n",
       "2           0  \n",
       "3           0  \n",
       "4           0  \n",
       "...       ...  \n",
       "284802      0  \n",
       "284803      0  \n",
       "284804      0  \n",
       "284805      0  \n",
       "284806      0  \n",
       "\n",
       "[284807 rows x 31 columns]"
      ]
     },
     "execution_count": 5,
     "metadata": {},
     "output_type": "execute_result"
    }
   ],
   "source": [
    "data"
   ]
  },
  {
   "cell_type": "code",
   "execution_count": 6,
   "metadata": {},
   "outputs": [],
   "source": [
    "# data=data.sample(2000)"
   ]
  },
  {
   "cell_type": "code",
   "execution_count": 7,
   "metadata": {},
   "outputs": [
    {
     "data": {
      "text/plain": [
       "<matplotlib.axes._subplots.AxesSubplot at 0x1cb802fa608>"
      ]
     },
     "execution_count": 7,
     "metadata": {},
     "output_type": "execute_result"
    },
    {
     "data": {
      "image/png": "[encoded data removed]",
      "text/plain": [
       "<Figure size 864x504 with 2 Axes>"
      ]
     },
     "metadata": {
      "needs_background": "light"
     },
     "output_type": "display_data"
    }
   ],
   "source": [
    "plt.figure(figsize=(12,7))\n",
    "sns.heatmap(data.corr())"
   ]
  },
  {
   "cell_type": "code",
   "execution_count": 8,
   "metadata": {},
   "outputs": [
    {
     "data": {
      "text/plain": [
       "Time      0\n",
       "V1        0\n",
       "V2        0\n",
       "V3        0\n",
       "V4        0\n",
       "V5        0\n",
       "V6        0\n",
       "V7        0\n",
       "V8        0\n",
       "V9        0\n",
       "V10       0\n",
       "V11       0\n",
       "V12       0\n",
       "V13       0\n",
       "V14       0\n",
       "V15       0\n",
       "V16       0\n",
       "V17       0\n",
       "V18       0\n",
       "V19       0\n",
       "V20       0\n",
       "V21       0\n",
       "V22       0\n",
       "V23       0\n",
       "V24       0\n",
       "V25       0\n",
       "V26       0\n",
       "V27       0\n",
       "V28       0\n",
       "Amount    0\n",
       "Class     0\n",
       "dtype: int64"
      ]
     },
     "execution_count": 8,
     "metadata": {},
     "output_type": "execute_result"
    }
   ],
   "source": [
    "data.isnull().sum()"
   ]
  },
  {
   "cell_type": "code",
   "execution_count": 9,
   "metadata": {},
   "outputs": [],
   "source": [
    "credit_df=data"
   ]
  },
  {
   "cell_type": "code",
   "execution_count": 10,
   "metadata": {},
   "outputs": [],
   "source": [
    "df1=credit_df[credit_df['Class']==0].sample(9000)\n",
    "df2=credit_df[credit_df['Class']==1]\n",
    "frame=[df1,df2]\n",
    "data=pd.concat(frame)"
   ]
  },
  {
   "cell_type": "code",
   "execution_count": 11,
   "metadata": {},
   "outputs": [
    {
     "data": {
      "text/plain": [
       "0    9000\n",
       "1     492\n",
       "Name: Class, dtype: int64"
      ]
     },
     "execution_count": 11,
     "metadata": {},
     "output_type": "execute_result"
    }
   ],
   "source": [
    "data['Class'].value_counts()"
   ]
  },
  {
   "cell_type": "code",
   "execution_count": 12,
   "metadata": {},
   "outputs": [],
   "source": [
    "#Independent Variables\n",
    "X = data.drop('Class', axis=1)\n",
    "y=data['Class']"
   ]
  },
  {
   "cell_type": "code",
   "execution_count": 13,
   "metadata": {},
   "outputs": [],
   "source": [
    "from sklearn.model_selection import train_test_split "
   ]
  },
  {
   "cell_type": "code",
   "execution_count": 14,
   "metadata": {},
   "outputs": [],
   "source": [
    "#Splitting data into train and test set with 70/30 split\n",
    "X_train, X_test, y_train, y_test = train_test_split(X,y,test_size=0.20, random_state=42)"
   ]
  },
  {
   "cell_type": "code",
   "execution_count": 15,
   "metadata": {},
   "outputs": [],
   "source": [
    "#Scaling the independent features\n",
    "X_train = sc.fit_transform(X_train)\n",
    "X_test = sc.fit_transform(X_test)"
   ]
  },
  {
   "cell_type": "code",
   "execution_count": 16,
   "metadata": {},
   "outputs": [
    {
     "name": "stdout",
     "output_type": "stream",
     "text": [
      "Before OverSampling, counts of label '1': 398\n",
      "Before OverSampling, counts of label '0': 7195\n",
      "After OverSampling, the shape of train_X: (14390, 30)\n",
      "After OverSampling, the shape of train_y: (14390,)\n",
      "After OverSampling, counts of label '1': 7195\n",
      "After OverSampling, counts of label '0': 7195\n"
     ]
    }
   ],
   "source": [
    "print(\"Before OverSampling, counts of label '1':\",(y_train == 1).sum()) \n",
    "print(\"Before OverSampling, counts of label '0':\",(y_train == 0).sum())\n",
    "  \n",
    "# import SMOTE module from imblearn library \n",
    "# pip install imblearn (if you don't have imblearn in your system) \n",
    "#conda install -c conda-forge imbalanced-learn\n",
    "\n",
    "from imblearn.over_sampling import SMOTE\n",
    "sm = SMOTE(random_state = 2) \n",
    "X_train_res, y_train_res = sm.fit_sample(X_train, y_train.ravel()) \n",
    "  \n",
    "print('After OverSampling, the shape of train_X:',X_train_res.shape) \n",
    "print('After OverSampling, the shape of train_y:', y_train_res.shape) \n",
    "  \n",
    "print(\"After OverSampling, counts of label '1':\",sum(y_train_res == 1)) \n",
    "print(\"After OverSampling, counts of label '0':\",sum(y_train_res == 0)) "
   ]
  },
  {
   "cell_type": "code",
   "execution_count": 17,
   "metadata": {},
   "outputs": [],
   "source": [
    "from sklearn.svm import SVC\n",
    "from sklearn.metrics import accuracy_score\n",
    "from sklearn.metrics import classification_report, confusion_matrix"
   ]
  },
  {
   "cell_type": "code",
   "execution_count": 18,
   "metadata": {},
   "outputs": [],
   "source": [
    "def validation(clf,X_train, y_train):\n",
    "    scores = cross_validate(clf, X_train, y_train,cv=8, return_train_score=True)\n",
    "    return scores"
   ]
  },
  {
   "cell_type": "code",
   "execution_count": 19,
   "metadata": {},
   "outputs": [],
   "source": [
    "def roc_auc(yTest,y_pred):\n",
    "#     sns.set()\n",
    "    fpr, tpr, thresholds = roc_curve(yTest, y_pred)\n",
    "    roc_auc = auc(fpr,tpr)\n",
    "    plt.title('Receiver Operating Characteristic')\n",
    "    plt.plot(fpr, tpr, 'b',label='AUC = %0.3f'% roc_auc)\n",
    "    plt.legend(loc='lower right')\n",
    "    plt.plot([0,1],[0,1],'r--')\n",
    "    plt.xlim([-0.1,1.0])\n",
    "    plt.ylim([-0.1,1.01])\n",
    "    plt.ylabel('True Positive Rate')\n",
    "    plt.xlabel('False Positive Rate')\n",
    "    plt.show()"
   ]
  },
  {
   "cell_type": "markdown",
   "metadata": {},
   "source": [
    "## Linear Kernel"
   ]
  },
  {
   "cell_type": "code",
   "execution_count": 20,
   "metadata": {},
   "outputs": [],
   "source": [
    "model_linear = SVC(kernel='linear', C=0.01)\n",
    "score_1_linear = validation(model_linear, X_train, y_train)\n",
    "model_linear = SVC(kernel='linear', C=0.1)\n",
    "score_2_linear = validation(model_linear, X_train, y_train)\n",
    "model_linear = SVC(kernel='linear', C=0.5)\n",
    "score_3_linear = validation(model_linear, X_train, y_train)\n",
    "model_linear = SVC(kernel='linear', C=1)\n",
    "score_4_linear = validation(model_linear, X_train, y_train)\n",
    "model_linear = SVC(kernel='linear', C=5)\n",
    "score_5_linear = validation(model_linear, X_train, y_train)\n",
    "model_linear = SVC(kernel='linear', C=10)\n",
    "score_6_linear = validation(model_linear, X_train, y_train)\n",
    "\n"
   ]
  },
  {
   "cell_type": "code",
   "execution_count": 21,
   "metadata": {},
   "outputs": [],
   "source": [
    "score_1_linear=pd.DataFrame.from_dict(score_1_linear)\n",
    "score_2_linear=pd.DataFrame.from_dict(score_2_linear)\n",
    "score_3_linear=pd.DataFrame.from_dict(score_3_linear)\n",
    "score_4_linear=pd.DataFrame.from_dict(score_4_linear)\n",
    "score_5_linear=pd.DataFrame.from_dict(score_5_linear)\n",
    "score_6_linear=pd.DataFrame.from_dict(score_6_linear)"
   ]
  },
  {
   "cell_type": "code",
   "execution_count": 22,
   "metadata": {},
   "outputs": [
    {
     "data": {
      "text/plain": [
       "0.9890691032111363"
      ]
     },
     "execution_count": 22,
     "metadata": {},
     "output_type": "execute_result"
    }
   ],
   "source": [
    "score_5_linear['test_score'].mean()"
   ]
  },
  {
   "cell_type": "code",
   "execution_count": 23,
   "metadata": {},
   "outputs": [],
   "source": [
    "s1_linear_train=[score_1_linear[['train_score']].mean(axis=0),score_2_linear[['train_score']].mean(axis=0),\n",
    "                score_3_linear[['train_score']].mean(axis=0),score_4_linear[['train_score']].mean(axis=0),\n",
    "                score_5_linear[['train_score']].mean(axis=0),score_6_linear[['train_score']].mean(axis=0)]  \n",
    "\n",
    "s1_linear_test=[score_1_linear[['test_score']].mean(axis=0),score_2_linear[['test_score']].mean(axis=0),\n",
    "                score_3_linear[['test_score']].mean(axis=0),score_4_linear[['test_score']].mean(axis=0),\n",
    "                score_5_linear[['test_score']].mean(axis=0),score_6_linear[['test_score']].mean(axis=0)]  "
   ]
  },
  {
   "cell_type": "code",
   "execution_count": 24,
   "metadata": {},
   "outputs": [],
   "source": [
    "## Learning curve for Train and Test accuracy for Linear SVM function for various values of C\n",
    "def train_cv_plot(c,s1_linear_train,s1_linear_test):\n",
    "    plt.plot(c,s1_linear_train,label='train',marker='o',markersize=4)\n",
    "    plt.plot(c,s1_linear_test,label='cv',c='r',marker='o',markersize=4)\n",
    "#     plot.set_xlabel(\"C(Regularization Parameter)\", fontsize = 12)\n",
    "    plt.xlabel(\"C(Regularization Parameter)\")\n",
    "    plt.ylabel(\"Accuracy\")\n",
    "#     plot1.set_title('Accuracy', fontsize = 16)\n",
    "    plt.legend(loc='best')\n",
    "    plt.title(\"Train and CrossValidation accuracy for SVM Linear kernel as a function of C\")"
   ]
  },
  {
   "cell_type": "code",
   "execution_count": 25,
   "metadata": {
    "scrolled": true
   },
   "outputs": [
    {
     "data": {
      "image/png": "[encoded data removed]",
      "text/plain": [
       "<Figure size 432x288 with 1 Axes>"
      ]
     },
     "metadata": {
      "needs_background": "light"
     },
     "output_type": "display_data"
    }
   ],
   "source": [
    "c=[0.01,0.1,0.5,1,5,10]\n",
    "train_cv_plot(c,s1_linear_train,s1_linear_test)"
   ]
  },
  {
   "cell_type": "markdown",
   "metadata": {},
   "source": [
    "## Rbf Kernel"
   ]
  },
  {
   "cell_type": "code",
   "execution_count": 26,
   "metadata": {},
   "outputs": [],
   "source": [
    "model_linear = SVC(kernel='rbf', C=0.01)\n",
    "score_1_rbf = validation(model_linear, X_train, y_train)\n",
    "model_linear = SVC(kernel='rbf', C=0.1)\n",
    "score_2_rbf = validation(model_linear, X_train, y_train)\n",
    "model_linear = SVC(kernel='rbf', C=0.5)\n",
    "score_3_rbf = validation(model_linear, X_train, y_train)\n",
    "model_linear = SVC(kernel='rbf', C=1)\n",
    "score_4_rbf = validation(model_linear, X_train, y_train)\n",
    "model_linear = SVC(kernel='rbf', C=5)\n",
    "score_5_rbf = validation(model_linear, X_train, y_train)\n",
    "model_linear = SVC(kernel='rbf', C=50)\n",
    "score_6_rbf = validation(model_linear, X_train, y_train)"
   ]
  },
  {
   "cell_type": "code",
   "execution_count": 27,
   "metadata": {},
   "outputs": [],
   "source": [
    "score_1_rbf=pd.DataFrame.from_dict(score_1_rbf)\n",
    "score_2_rbf=pd.DataFrame.from_dict(score_2_rbf)\n",
    "score_3_rbf=pd.DataFrame.from_dict(score_3_rbf)\n",
    "score_4_rbf=pd.DataFrame.from_dict(score_4_rbf)\n",
    "score_5_rbf=pd.DataFrame.from_dict(score_5_rbf)\n",
    "score_6_rbf=pd.DataFrame.from_dict(score_6_rbf)"
   ]
  },
  {
   "cell_type": "code",
   "execution_count": 28,
   "metadata": {},
   "outputs": [
    {
     "data": {
      "text/html": [
       "<div>\n",
       "<style scoped>\n",
       "    .dataframe tbody tr th:only-of-type {\n",
       "        vertical-align: middle;\n",
       "    }\n",
       "\n",
       "    .dataframe tbody tr th {\n",
       "        vertical-align: top;\n",
       "    }\n",
       "\n",
       "    .dataframe thead th {\n",
       "        text-align: right;\n",
       "    }\n",
       "</style>\n",
       "<table border=\"1\" class=\"dataframe\">\n",
       "  <thead>\n",
       "    <tr style=\"text-align: right;\">\n",
       "      <th></th>\n",
       "      <th>fit_time</th>\n",
       "      <th>score_time</th>\n",
       "      <th>test_score</th>\n",
       "      <th>train_score</th>\n",
       "    </tr>\n",
       "  </thead>\n",
       "  <tbody>\n",
       "    <tr>\n",
       "      <td>0</td>\n",
       "      <td>0.188497</td>\n",
       "      <td>0.021898</td>\n",
       "      <td>0.980000</td>\n",
       "      <td>0.984645</td>\n",
       "    </tr>\n",
       "    <tr>\n",
       "      <td>1</td>\n",
       "      <td>0.189493</td>\n",
       "      <td>0.020946</td>\n",
       "      <td>0.981033</td>\n",
       "      <td>0.980885</td>\n",
       "    </tr>\n",
       "    <tr>\n",
       "      <td>2</td>\n",
       "      <td>0.187455</td>\n",
       "      <td>0.021943</td>\n",
       "      <td>0.974710</td>\n",
       "      <td>0.986153</td>\n",
       "    </tr>\n",
       "    <tr>\n",
       "      <td>3</td>\n",
       "      <td>0.189492</td>\n",
       "      <td>0.024935</td>\n",
       "      <td>0.977871</td>\n",
       "      <td>0.984648</td>\n",
       "    </tr>\n",
       "    <tr>\n",
       "      <td>4</td>\n",
       "      <td>0.246341</td>\n",
       "      <td>0.021942</td>\n",
       "      <td>0.989463</td>\n",
       "      <td>0.982691</td>\n",
       "    </tr>\n",
       "    <tr>\n",
       "      <td>5</td>\n",
       "      <td>0.187504</td>\n",
       "      <td>0.021899</td>\n",
       "      <td>0.982086</td>\n",
       "      <td>0.984046</td>\n",
       "    </tr>\n",
       "    <tr>\n",
       "      <td>6</td>\n",
       "      <td>0.184545</td>\n",
       "      <td>0.021898</td>\n",
       "      <td>0.985248</td>\n",
       "      <td>0.984347</td>\n",
       "    </tr>\n",
       "    <tr>\n",
       "      <td>7</td>\n",
       "      <td>0.192456</td>\n",
       "      <td>0.021941</td>\n",
       "      <td>0.984194</td>\n",
       "      <td>0.983143</td>\n",
       "    </tr>\n",
       "  </tbody>\n",
       "</table>\n",
       "</div>"
      ],
      "text/plain": [
       "   fit_time  score_time  test_score  train_score\n",
       "0  0.188497    0.021898    0.980000     0.984645\n",
       "1  0.189493    0.020946    0.981033     0.980885\n",
       "2  0.187455    0.021943    0.974710     0.986153\n",
       "3  0.189492    0.024935    0.977871     0.984648\n",
       "4  0.246341    0.021942    0.989463     0.982691\n",
       "5  0.187504    0.021899    0.982086     0.984046\n",
       "6  0.184545    0.021898    0.985248     0.984347\n",
       "7  0.192456    0.021941    0.984194     0.983143"
      ]
     },
     "execution_count": 28,
     "metadata": {},
     "output_type": "execute_result"
    }
   ],
   "source": [
    "score_2_rbf"
   ]
  },
  {
   "cell_type": "code",
   "execution_count": 29,
   "metadata": {},
   "outputs": [],
   "source": [
    "s1_rbf_train=[score_1_rbf[['train_score']].mean(axis=0),score_2_rbf[['train_score']].mean(axis=0),\n",
    "                score_3_rbf[['train_score']].mean(axis=0),score_4_rbf[['train_score']].mean(axis=0),\n",
    "                score_5_rbf[['train_score']].mean(axis=0),score_6_rbf[['train_score']].mean(axis=0)]  \n",
    "\n",
    "s1_rbf_test=[score_1_rbf[['test_score']].mean(axis=0),score_2_rbf[['test_score']].mean(axis=0),\n",
    "                score_3_rbf[['test_score']].mean(axis=0),score_4_rbf[['test_score']].mean(axis=0),\n",
    "                score_5_rbf[['test_score']].mean(axis=0),score_6_rbf[['test_score']].mean(axis=0)]  "
   ]
  },
  {
   "cell_type": "code",
   "execution_count": 30,
   "metadata": {},
   "outputs": [],
   "source": [
    "## Learning curve for Train and Test accuracy for Linear SVM function for various values of C\n",
    "def train_cv_plot_rbf(c,s1_linear_train,s1_linear_test):\n",
    "    plt.plot(c,s1_linear_train,label='train',marker='o',markersize=4)\n",
    "    plt.plot(c,s1_linear_test,label='cv',c='r',marker='o',markersize=4)\n",
    "#     plot.set_xlabel(\"C(Regularization Parameter)\", fontsize = 12)\n",
    "    plt.xlabel(\"C(Regularization Parameter)\")\n",
    "    plt.ylabel(\"Accuracy\")\n",
    "#     plot1.set_title('Accuracy', fontsize = 16)\n",
    "    plt.legend(loc='best')\n",
    "    plt.title(\"Train and CrossValidation accuracy for SVM RBf kernel as a function of C\")"
   ]
  },
  {
   "cell_type": "code",
   "execution_count": 31,
   "metadata": {
    "scrolled": true
   },
   "outputs": [
    {
     "data": {
      "image/png": "[encoded data removed]",
      "text/plain": [
       "<Figure size 432x288 with 1 Axes>"
      ]
     },
     "metadata": {
      "needs_background": "light"
     },
     "output_type": "display_data"
    }
   ],
   "source": [
    "c=[0.01,0.1,0.5,1,5,10]\n",
    "train_cv_plot_rbf(c,s1_rbf_train,s1_rbf_test)"
   ]
  },
  {
   "cell_type": "markdown",
   "metadata": {},
   "source": [
    "## Sigmoid Kernel"
   ]
  },
  {
   "cell_type": "code",
   "execution_count": 32,
   "metadata": {},
   "outputs": [],
   "source": [
    "model_linear = SVC(kernel='sigmoid', C=0.001)\n",
    "score_1_sig = validation(model_linear, X_train, y_train)\n",
    "model_linear = SVC(kernel='sigmoid', C=0.003)\n",
    "score_2_sig = validation(model_linear, X_train, y_train)\n",
    "model_linear = SVC(kernel='sigmoid', C=0.005)\n",
    "score_3_sig = validation(model_linear, X_train, y_train)\n",
    "model_linear = SVC(kernel='sigmoid', C=0.01)\n",
    "score_4_sig = validation(model_linear, X_train, y_train)\n",
    "model_linear = SVC(kernel='sigmoid', C=0.05)\n",
    "score_5_sig = validation(model_linear, X_train, y_train)\n",
    "model_linear = SVC(kernel='sigmoid', C=1)\n",
    "score_6_sig = validation(model_linear, X_train, y_train)\n",
    "model_linear = SVC(kernel='sigmoid', C=5)\n",
    "score_7_sig = validation(model_linear, X_train, y_train)"
   ]
  },
  {
   "cell_type": "code",
   "execution_count": 33,
   "metadata": {},
   "outputs": [],
   "source": [
    "score_1_sig=pd.DataFrame.from_dict(score_1_sig)\n",
    "score_2_sig=pd.DataFrame.from_dict(score_2_sig)\n",
    "score_3_sig=pd.DataFrame.from_dict(score_3_sig)\n",
    "score_4_sig=pd.DataFrame.from_dict(score_4_sig)\n",
    "score_5_sig=pd.DataFrame.from_dict(score_5_sig)\n",
    "score_6_sig=pd.DataFrame.from_dict(score_6_sig)\n",
    "score_7_sig=pd.DataFrame.from_dict(score_7_sig)"
   ]
  },
  {
   "cell_type": "code",
   "execution_count": 34,
   "metadata": {},
   "outputs": [],
   "source": [
    "s1_sig_train=[score_1_sig[['train_score']].mean(axis=0),score_2_sig[['train_score']].mean(axis=0),\n",
    "                score_3_sig[['train_score']].mean(axis=0),score_4_sig[['train_score']].mean(axis=0),\n",
    "                score_5_sig[['train_score']].mean(axis=0),score_6_sig[['train_score']].mean(axis=0),score_7_sig[['train_score']].mean(axis=0)]  \n",
    "\n",
    "s1_sig_test=[score_1_sig[['test_score']].mean(axis=0),score_2_sig[['test_score']].mean(axis=0),\n",
    "                score_3_sig[['test_score']].mean(axis=0),score_4_sig[['test_score']].mean(axis=0),\n",
    "                score_5_sig[['test_score']].mean(axis=0),score_6_sig[['test_score']].mean(axis=0),score_7_sig[['test_score']].mean(axis=0)]  "
   ]
  },
  {
   "cell_type": "code",
   "execution_count": 35,
   "metadata": {},
   "outputs": [],
   "source": [
    "## Learning curve for Train and Test accuracy for Linear SVM function for various values of C\n",
    "def train_cv_plot_sig(c,s1_linear_train,s1_linear_test):\n",
    "    plt.plot(c,s1_linear_train,label='train',marker='o',markersize=4)\n",
    "    plt.plot(c,s1_linear_test,label='cv',c='r',marker='o',markersize=4)\n",
    "#     plot.set_xlabel(\"C(Regularization Parameter)\", fontsize = 12)\n",
    "    plt.xlabel(\"C(Regularization Parameter)\")\n",
    "    plt.ylabel(\"Accuracy\")\n",
    "#     plot1.set_title('Accuracy', fontsize = 16)\n",
    "    plt.legend(loc='best')\n",
    "    plt.title(\"Train and CrossValidation accuracy for SVM Sigmoid kernel as a function of C\")"
   ]
  },
  {
   "cell_type": "code",
   "execution_count": 36,
   "metadata": {
    "scrolled": true
   },
   "outputs": [
    {
     "data": {
      "image/png": "[encoded data removed]",
      "text/plain": [
       "<Figure size 432x288 with 1 Axes>"
      ]
     },
     "metadata": {
      "needs_background": "light"
     },
     "output_type": "display_data"
    }
   ],
   "source": [
    "c=[0.001,0.003,0.005,0.01,0.5,1,5]\n",
    "train_cv_plot_sig(c,s1_sig_train,s1_sig_test)"
   ]
  },
  {
   "cell_type": "code",
   "execution_count": 37,
   "metadata": {},
   "outputs": [
    {
     "data": {
      "text/plain": [
       "SVC(C=0.003, break_ties=False, cache_size=200, class_weight=None, coef0=0.0,\n",
       "    decision_function_shape='ovr', degree=3, gamma='scale', kernel='sigmoid',\n",
       "    max_iter=-1, probability=False, random_state=None, shrinking=True,\n",
       "    tol=0.001, verbose=False)"
      ]
     },
     "execution_count": 37,
     "metadata": {},
     "output_type": "execute_result"
    }
   ],
   "source": [
    "#### Fitting the functions on the complete training set with best parameters\n",
    "## SVM Functions \n",
    "clf_linear_1 = svm.SVC(kernel='linear', C=0.1)\n",
    "clf_linear_1.fit(X_train,y_train)\n",
    "\n",
    "clf_rbf_1 = svm.SVC(kernel='rbf', C=0.1)\n",
    "clf_rbf_1.fit(X_train,y_train)\n",
    "\n",
    "clf_sigmoid_1 = svm.SVC(kernel='sigmoid', C=0.003)\n",
    "clf_sigmoid_1.fit(X_train,y_train)"
   ]
  },
  {
   "cell_type": "code",
   "execution_count": 38,
   "metadata": {},
   "outputs": [],
   "source": [
    "y_pred_linear=clf_linear_1.predict(X_test)\n",
    "y_pred_rbf=clf_rbf_1.predict(X_test)\n",
    "y_pred_sigmoid=clf_sigmoid_1.predict(X_test)"
   ]
  },
  {
   "cell_type": "code",
   "execution_count": 39,
   "metadata": {
    "scrolled": true
   },
   "outputs": [
    {
     "name": "stdout",
     "output_type": "stream",
     "text": [
      "[[1804    1]\n",
      " [  16   78]]\n",
      "              precision    recall  f1-score   support\n",
      "\n",
      "           0       0.99      1.00      1.00      1805\n",
      "           1       0.99      0.83      0.90        94\n",
      "\n",
      "    accuracy                           0.99      1899\n",
      "   macro avg       0.99      0.91      0.95      1899\n",
      "weighted avg       0.99      0.99      0.99      1899\n",
      "\n",
      "0.9910479199578726\n"
     ]
    }
   ],
   "source": [
    "## Classification report for SVM-Linear\n",
    "print(confusion_matrix(y_test,y_pred_linear))  \n",
    "print(classification_report(y_test,y_pred_linear))\n",
    "print(accuracy_score(y_test,y_pred_linear))"
   ]
  },
  {
   "cell_type": "code",
   "execution_count": 40,
   "metadata": {},
   "outputs": [
    {
     "data": {
      "image/png": "[encoded data removed]",
      "text/plain": [
       "<Figure size 432x288 with 1 Axes>"
      ]
     },
     "metadata": {
      "needs_background": "light"
     },
     "output_type": "display_data"
    }
   ],
   "source": [
    "roc_auc(y_pred_linear,y_test)"
   ]
  },
  {
   "cell_type": "code",
   "execution_count": 41,
   "metadata": {
    "scrolled": true
   },
   "outputs": [
    {
     "name": "stdout",
     "output_type": "stream",
     "text": [
      "[[1804    1]\n",
      " [  35   59]]\n",
      "              precision    recall  f1-score   support\n",
      "\n",
      "           0       0.98      1.00      0.99      1805\n",
      "           1       0.98      0.63      0.77        94\n",
      "\n",
      "    accuracy                           0.98      1899\n",
      "   macro avg       0.98      0.81      0.88      1899\n",
      "weighted avg       0.98      0.98      0.98      1899\n",
      "\n",
      "0.981042654028436\n"
     ]
    }
   ],
   "source": [
    "## Classification report for SVM-rbf\n",
    "print(confusion_matrix(y_test,y_pred_rbf))  \n",
    "print(classification_report(y_test,y_pred_rbf))\n",
    "print(accuracy_score(y_test,y_pred_rbf))"
   ]
  },
  {
   "cell_type": "code",
   "execution_count": 42,
   "metadata": {},
   "outputs": [
    {
     "data": {
      "image/png": "[encoded data removed]",
      "text/plain": [
       "<Figure size 432x288 with 1 Axes>"
      ]
     },
     "metadata": {
      "needs_background": "light"
     },
     "output_type": "display_data"
    }
   ],
   "source": [
    "roc_auc(y_pred_rbf,y_test)"
   ]
  },
  {
   "cell_type": "code",
   "execution_count": 43,
   "metadata": {
    "scrolled": true
   },
   "outputs": [
    {
     "name": "stdout",
     "output_type": "stream",
     "text": [
      "[[1805    0]\n",
      " [  89    5]]\n",
      "              precision    recall  f1-score   support\n",
      "\n",
      "           0       0.95      1.00      0.98      1805\n",
      "           1       1.00      0.05      0.10        94\n",
      "\n",
      "    accuracy                           0.95      1899\n",
      "   macro avg       0.98      0.53      0.54      1899\n",
      "weighted avg       0.96      0.95      0.93      1899\n",
      "\n",
      "0.9531332280147446\n"
     ]
    }
   ],
   "source": [
    "## Classification report for SVM-sigmoid\n",
    "print(confusion_matrix(y_test,y_pred_sigmoid))  \n",
    "print(classification_report(y_test,y_pred_sigmoid))\n",
    "print(accuracy_score(y_test,y_pred_sigmoid))"
   ]
  },
  {
   "cell_type": "code",
   "execution_count": 44,
   "metadata": {},
   "outputs": [
    {
     "data": {
      "image/png": "[encoded data removed]",
      "text/plain": [
       "<Figure size 432x288 with 1 Axes>"
      ]
     },
     "metadata": {
      "needs_background": "light"
     },
     "output_type": "display_data"
    }
   ],
   "source": [
    "roc_auc(y_pred_rbf,y_test)"
   ]
  },
  {
   "cell_type": "markdown",
   "metadata": {},
   "source": [
    "# Decision Tree"
   ]
  },
  {
   "cell_type": "code",
   "execution_count": 45,
   "metadata": {},
   "outputs": [],
   "source": [
    "def train_using_gini(X_train, y_train, depth): \n",
    "  \n",
    "    clf_gini = DecisionTreeClassifier(criterion = \"gini\", \n",
    "            random_state = 42,max_depth=depth) \n",
    "  \n",
    "    clf_gini.fit(X_train, y_train) #training\n",
    "    return clf_gini "
   ]
  },
  {
   "cell_type": "code",
   "execution_count": 46,
   "metadata": {},
   "outputs": [],
   "source": [
    "\n",
    "def prediction(X_test, clf_object): \n",
    "  \n",
    "    y_pred_tree = clf_object.predict(X_test)  \n",
    "    return y_pred_tree"
   ]
  },
  {
   "cell_type": "code",
   "execution_count": 47,
   "metadata": {},
   "outputs": [],
   "source": [
    "def accuracy(y_test, y_pred): \n",
    "      \n",
    "    print(\"Confusion Matrix is: \",confusion_matrix(y_test, y_pred)) \n",
    "      \n",
    "    print (\"Accuracy Score is: \", accuracy_score(y_test,y_pred)*100) \n",
    "      \n",
    "    print(\"Classsification Report is: \", classification_report(y_test, y_pred))"
   ]
  },
  {
   "cell_type": "code",
   "execution_count": 48,
   "metadata": {},
   "outputs": [],
   "source": [
    "CC_alpha=[0.00001,0.0001,0.001,0.01,0.05,0.1,0.4]\n",
    "model_linear = DecisionTreeClassifier(criterion = \"gini\", \n",
    "            random_state = 42,ccp_alpha=0.00001)\n",
    "score_1_dt = validation(model_linear, X_train, y_train)\n",
    "model_linear = DecisionTreeClassifier(criterion = \"gini\", \n",
    "            random_state = 42,ccp_alpha=0.0001)\n",
    "score_2_dt = validation(model_linear, X_train, y_train)\n",
    "\n",
    "\n",
    "model_linear = DecisionTreeClassifier(criterion = \"gini\", \n",
    "            random_state = 42,ccp_alpha=0.001)\n",
    "score_3_dt = validation(model_linear, X_train, y_train)\n",
    "model_linear = DecisionTreeClassifier(criterion = \"gini\", \n",
    "            random_state = 42,ccp_alpha=0.01)\n",
    "score_4_dt = validation(model_linear, X_train, y_train)\n",
    "model_linear = DecisionTreeClassifier(criterion = \"gini\", \n",
    "            random_state = 42,ccp_alpha=0.05)\n",
    "score_5_dt = validation(model_linear, X_train, y_train)\n",
    "model_linear = DecisionTreeClassifier(criterion = \"gini\", \n",
    "            random_state = 42,ccp_alpha=0.1)\n",
    "score_6_dt = validation(model_linear, X_train, y_train)\n",
    "model_linear = DecisionTreeClassifier(criterion = \"gini\", \n",
    "            random_state = 42,ccp_alpha=0.4)\n",
    "score_7_dt = validation(model_linear, X_train, y_train)\n"
   ]
  },
  {
   "cell_type": "code",
   "execution_count": 49,
   "metadata": {},
   "outputs": [],
   "source": [
    "score_1_dt=pd.DataFrame.from_dict(score_1_dt)\n",
    "score_2_dt=pd.DataFrame.from_dict(score_2_dt)\n",
    "score_3_dt=pd.DataFrame.from_dict(score_3_dt)\n",
    "score_4_dt=pd.DataFrame.from_dict(score_4_dt)\n",
    "score_5_dt=pd.DataFrame.from_dict(score_5_dt)\n",
    "score_6_dt=pd.DataFrame.from_dict(score_6_dt)\n",
    "score_7_dt=pd.DataFrame.from_dict(score_7_dt)\n"
   ]
  },
  {
   "cell_type": "code",
   "execution_count": 50,
   "metadata": {
    "scrolled": true
   },
   "outputs": [
    {
     "data": {
      "text/html": [
       "<div>\n",
       "<style scoped>\n",
       "    .dataframe tbody tr th:only-of-type {\n",
       "        vertical-align: middle;\n",
       "    }\n",
       "\n",
       "    .dataframe tbody tr th {\n",
       "        vertical-align: top;\n",
       "    }\n",
       "\n",
       "    .dataframe thead th {\n",
       "        text-align: right;\n",
       "    }\n",
       "</style>\n",
       "<table border=\"1\" class=\"dataframe\">\n",
       "  <thead>\n",
       "    <tr style=\"text-align: right;\">\n",
       "      <th></th>\n",
       "      <th>fit_time</th>\n",
       "      <th>score_time</th>\n",
       "      <th>test_score</th>\n",
       "      <th>train_score</th>\n",
       "    </tr>\n",
       "  </thead>\n",
       "  <tbody>\n",
       "    <tr>\n",
       "      <td>0</td>\n",
       "      <td>0.210439</td>\n",
       "      <td>0.000000</td>\n",
       "      <td>0.978947</td>\n",
       "      <td>1.0</td>\n",
       "    </tr>\n",
       "    <tr>\n",
       "      <td>1</td>\n",
       "      <td>0.253323</td>\n",
       "      <td>0.000998</td>\n",
       "      <td>0.983140</td>\n",
       "      <td>1.0</td>\n",
       "    </tr>\n",
       "    <tr>\n",
       "      <td>2</td>\n",
       "      <td>0.215420</td>\n",
       "      <td>0.000959</td>\n",
       "      <td>0.973656</td>\n",
       "      <td>1.0</td>\n",
       "    </tr>\n",
       "    <tr>\n",
       "      <td>3</td>\n",
       "      <td>0.224400</td>\n",
       "      <td>0.001009</td>\n",
       "      <td>0.983140</td>\n",
       "      <td>1.0</td>\n",
       "    </tr>\n",
       "    <tr>\n",
       "      <td>4</td>\n",
       "      <td>0.212432</td>\n",
       "      <td>0.000000</td>\n",
       "      <td>0.988409</td>\n",
       "      <td>1.0</td>\n",
       "    </tr>\n",
       "    <tr>\n",
       "      <td>5</td>\n",
       "      <td>0.241353</td>\n",
       "      <td>0.000000</td>\n",
       "      <td>0.978925</td>\n",
       "      <td>1.0</td>\n",
       "    </tr>\n",
       "    <tr>\n",
       "      <td>6</td>\n",
       "      <td>0.208442</td>\n",
       "      <td>0.000000</td>\n",
       "      <td>0.983140</td>\n",
       "      <td>1.0</td>\n",
       "    </tr>\n",
       "    <tr>\n",
       "      <td>7</td>\n",
       "      <td>0.218412</td>\n",
       "      <td>0.000000</td>\n",
       "      <td>0.985248</td>\n",
       "      <td>1.0</td>\n",
       "    </tr>\n",
       "  </tbody>\n",
       "</table>\n",
       "</div>"
      ],
      "text/plain": [
       "   fit_time  score_time  test_score  train_score\n",
       "0  0.210439    0.000000    0.978947          1.0\n",
       "1  0.253323    0.000998    0.983140          1.0\n",
       "2  0.215420    0.000959    0.973656          1.0\n",
       "3  0.224400    0.001009    0.983140          1.0\n",
       "4  0.212432    0.000000    0.988409          1.0\n",
       "5  0.241353    0.000000    0.978925          1.0\n",
       "6  0.208442    0.000000    0.983140          1.0\n",
       "7  0.218412    0.000000    0.985248          1.0"
      ]
     },
     "execution_count": 50,
     "metadata": {},
     "output_type": "execute_result"
    }
   ],
   "source": [
    "score_2_dt"
   ]
  },
  {
   "cell_type": "code",
   "execution_count": 51,
   "metadata": {},
   "outputs": [],
   "source": [
    "s1_dt_train=[score_1_dt[['train_score']].mean(axis=0),score_2_dt[['train_score']].mean(axis=0),\n",
    "                score_3_dt[['train_score']].mean(axis=0),score_4_dt[['train_score']].mean(axis=0),score_5_dt[['train_score']].mean(axis=0),\n",
    "            score_6_dt[['train_score']].mean(axis=0),score_7_dt[['train_score']].mean(axis=0)]  \n",
    "\n",
    "s1_dt_test=[score_1_dt[['test_score']].mean(axis=0),score_2_dt[['test_score']].mean(axis=0),\n",
    "                score_3_dt[['test_score']].mean(axis=0),score_4_dt[['test_score']].mean(axis=0),score_5_dt[['test_score']].mean(axis=0),\n",
    "           score_6_dt[['test_score']].mean(axis=0),score_7_dt[['test_score']].mean(axis=0)]  \n"
   ]
  },
  {
   "cell_type": "code",
   "execution_count": 52,
   "metadata": {
    "scrolled": true
   },
   "outputs": [
    {
     "data": {
      "image/png": "[encoded data removed]",
      "text/plain": [
       "<Figure size 432x288 with 1 Axes>"
      ]
     },
     "metadata": {
      "needs_background": "light"
     },
     "output_type": "display_data"
    }
   ],
   "source": [
    "CC_alpha=[0.00001,0.0001,0.001,0.01,0.05,0.1,0.4]\n",
    "def train_cv_plot_dt(c,s1_linear_train,s1_linear_test):\n",
    "    plt.plot(c,s1_linear_train,label='train')\n",
    "    plt.plot(c,s1_linear_test,label='cv')\n",
    "    plt.xlabel(\"cc_aplha\")\n",
    "    plt.ylabel(\"Accuracy\")\n",
    "    plt.legend(loc='lower right')\n",
    "    plt.title(\"Train and CrossValidation accuracy for Decision Tree as a function of cc_alpha\")\n",
    "train_cv_plot_dt(CC_alpha,s1_dt_train,s1_dt_test)"
   ]
  },
  {
   "cell_type": "code",
   "execution_count": 53,
   "metadata": {},
   "outputs": [],
   "source": [
    "from sklearn.metrics import mean_squared_error"
   ]
  },
  {
   "cell_type": "code",
   "execution_count": 54,
   "metadata": {
    "scrolled": false
   },
   "outputs": [],
   "source": [
    "# C=[0.00001,0.00005,0.0001,0.0005,0.001,0.005,0.01,0.05]\n",
    "# tree_depth=[]\n",
    "# tree_acc=[]\n",
    "# # for i in CC_alpha:\n",
    "# #     clf_gini1 = DecisionTreeClassifier(criterion = \"gini\", random_state = 42,ccp_alpha=i)\n",
    "# #     clf_gini_.fit(X_train, y_train)\n",
    "# #     y1_pred_tree = prediction(X_test, clf_gini)\n",
    "# #     print(accuracy(y_test, y_pred_tree))\n",
    "# # #     print(clf_gini1.tree_.max_depth)\n",
    "# #     ccp_alpha_list.append(clf_gini1)\n",
    "# for i in C:\n",
    "#     clf_gini = DecisionTreeClassifier(criterion = \"gini\", random_state = 100,ccp_alpha=i)\n",
    "#     clf_gini.fit(X_train, y_train) \n",
    "#     y_pred_tree = prediction(X_test, clf_gini)\n",
    "#     tree_acc.append(accuracy(y_test, y_pred_tree))\n",
    "#     tree_depth.append(clf_gini_.tree_.max_depth)"
   ]
  },
  {
   "cell_type": "code",
   "execution_count": 55,
   "metadata": {},
   "outputs": [],
   "source": [
    "# plt.plot(a,tree_depth,c='g')\n",
    "# plt.xlabel('ccp_aplha')\n",
    "# plt.ylabel('tree depth')\n",
    "# plt.show()"
   ]
  },
  {
   "cell_type": "code",
   "execution_count": 56,
   "metadata": {
    "scrolled": true
   },
   "outputs": [
    {
     "name": "stdout",
     "output_type": "stream",
     "text": [
      "Confusion Matrix is:  [[1795   10]\n",
      " [  15   79]]\n",
      "Accuracy Score is:  98.68351764086361\n",
      "Classsification Report is:                precision    recall  f1-score   support\n",
      "\n",
      "           0       0.99      0.99      0.99      1805\n",
      "           1       0.89      0.84      0.86        94\n",
      "\n",
      "    accuracy                           0.99      1899\n",
      "   macro avg       0.94      0.92      0.93      1899\n",
      "weighted avg       0.99      0.99      0.99      1899\n",
      "\n",
      "None\n",
      "22\n"
     ]
    }
   ],
   "source": [
    "clf_gini = DecisionTreeClassifier(criterion = \"gini\", random_state = 100)\n",
    "clf_gini.fit(X_train, y_train) \n",
    "y_pred_tree = prediction(X_test, clf_gini)\n",
    "print(accuracy(y_test, y_pred_tree))\n",
    "\n",
    "print(clf_gini.tree_.max_depth)\n",
    "# clf.gin"
   ]
  },
  {
   "cell_type": "code",
   "execution_count": 57,
   "metadata": {},
   "outputs": [
    {
     "name": "stdout",
     "output_type": "stream",
     "text": [
      "Accuracy on training set: 100.0\n",
      "Accuracy on test set: 98.68351764086361\n"
     ]
    }
   ],
   "source": [
    "print(\"Accuracy on training set:\",clf_gini.score(X_train, y_train)*100)\n",
    "print(\"Accuracy on test set:\",clf_gini.score(X_test, y_test)*100)"
   ]
  },
  {
   "cell_type": "code",
   "execution_count": 58,
   "metadata": {},
   "outputs": [
    {
     "data": {
      "image/png": "[encoded data removed]",
      "text/plain": [
       "<Figure size 432x288 with 1 Axes>"
      ]
     },
     "metadata": {
      "needs_background": "light"
     },
     "output_type": "display_data"
    }
   ],
   "source": [
    "test_accuracy = []\n",
    "train_accuracy = []\n",
    "depth = []\n",
    "for i in range(1,clf_gini.tree_.max_depth):\n",
    "    clf_gini_1 = train_using_gini(X_train, y_train, i)\n",
    "    y_pred_tree_test = prediction(X_test, clf_gini_1)\n",
    "    y_pred_tree_train = prediction(X_train, clf_gini_1)\n",
    "    test_accuracy.append(accuracy_score(y_test,y_pred_tree_test)*100)\n",
    "    train_accuracy.append(accuracy_score(y_train,y_pred_tree_train)*100)\n",
    "    depth.append(i)\n",
    "    \n",
    "plt.xlabel('Depth')\n",
    "plt.ylabel('Accuracy')\n",
    "plt.plot(depth,train_accuracy, label='train')\n",
    "plt.plot(depth,test_accuracy, label='test')\n",
    "plt.legend(loc='best')\n",
    "plt.show()"
   ]
  },
  {
   "cell_type": "code",
   "execution_count": 59,
   "metadata": {},
   "outputs": [
    {
     "name": "stdout",
     "output_type": "stream",
     "text": [
      "Accuracy on training set: 100.0\n",
      "Accuracy on test set: 98.68351764086361\n"
     ]
    }
   ],
   "source": [
    "print(\"Accuracy on training set:\",clf_gini.score(X_train, y_train)*100)\n",
    "print(\"Accuracy on test set:\",clf_gini.score(X_test, y_test)*100)"
   ]
  },
  {
   "cell_type": "code",
   "execution_count": 60,
   "metadata": {
    "scrolled": true
   },
   "outputs": [
    {
     "data": {
      "image/png": "[encoded data removed]",
      "text/plain": [
       "<Figure size 432x288 with 1 Axes>"
      ]
     },
     "metadata": {
      "needs_background": "light"
     },
     "output_type": "display_data"
    }
   ],
   "source": [
    "test_accuracy = []\n",
    "train_accuracy = []\n",
    "depth = []\n",
    "for i in range(1,clf_gini.tree_.max_depth):\n",
    "    clf_gini_1 = train_using_gini(X_train, y_train, i)\n",
    "    y_pred_tree_test = prediction(X_test, clf_gini_1)\n",
    "    y_pred_tree_train = prediction(X_train, clf_gini_1)\n",
    "    test_accuracy.append(accuracy_score(y_test,y_pred_tree_test)*100)\n",
    "    train_accuracy.append(accuracy_score(y_train,y_pred_tree_train)*100)\n",
    "    depth.append(i)\n",
    "    \n",
    "plt.xlabel('Depth')\n",
    "plt.ylabel('Accuracy')\n",
    "plt.plot(depth,train_accuracy, label='train',marker='d',markersize=4)\n",
    "plt.plot(depth,test_accuracy, label='test',marker='d',markersize=4,color='r')\n",
    "plt.title(\"Change in Accuracy w.r.t  change in Depth\")\n",
    "plt.legend(loc='best')\n",
    "plt.show()"
   ]
  },
  {
   "cell_type": "code",
   "execution_count": 61,
   "metadata": {},
   "outputs": [
    {
     "data": {
      "text/plain": [
       "(1899, 30)"
      ]
     },
     "execution_count": 61,
     "metadata": {},
     "output_type": "execute_result"
    }
   ],
   "source": [
    "X_test.shape"
   ]
  },
  {
   "cell_type": "code",
   "execution_count": 62,
   "metadata": {
    "scrolled": true
   },
   "outputs": [
    {
     "name": "stdout",
     "output_type": "stream",
     "text": [
      "Confusion Matrix is:  [[1797    8]\n",
      " [  16   78]]\n",
      "Accuracy Score is:  98.73617693522907\n",
      "Classsification Report is:                precision    recall  f1-score   support\n",
      "\n",
      "           0       0.99      1.00      0.99      1805\n",
      "           1       0.91      0.83      0.87        94\n",
      "\n",
      "    accuracy                           0.99      1899\n",
      "   macro avg       0.95      0.91      0.93      1899\n",
      "weighted avg       0.99      0.99      0.99      1899\n",
      "\n"
     ]
    }
   ],
   "source": [
    "clf_gini = DecisionTreeClassifier(criterion = \"gini\", random_state = 100,max_depth=8)\n",
    "clf_gini.fit(X_train, y_train) \n",
    "y_pred_tree = prediction(X_test, clf_gini)\n",
    "accuracy(y_test, y_pred_tree)"
   ]
  },
  {
   "cell_type": "code",
   "execution_count": 63,
   "metadata": {},
   "outputs": [],
   "source": [
    "CC_alpha=[0.0000001,0.000001,0.00001,0.0001,0.001,0.01,0.1]\n",
    "model_linear = DecisionTreeClassifier(criterion = \"gini\", \n",
    "            random_state = 42,ccp_alpha=0.0000001,max_depth=2)\n",
    "score_1_dt = validation(model_linear, X_train, y_train)\n",
    "model_linear = DecisionTreeClassifier(criterion = \"gini\", \n",
    "            random_state = 42,ccp_alpha=0.000001,max_depth=2)\n",
    "score_2_dt = validation(model_linear, X_train, y_train)\n",
    "\n",
    "\n",
    "model_linear = DecisionTreeClassifier(criterion = \"gini\", \n",
    "            random_state = 42,ccp_alpha=0.00001,max_depth=2)\n",
    "score_3_dt = validation(model_linear, X_train, y_train)\n",
    "model_linear = DecisionTreeClassifier(criterion = \"gini\", \n",
    "            random_state = 42,ccp_alpha=0.0001,max_depth=2)\n",
    "score_4_dt = validation(model_linear, X_train, y_train)\n",
    "model_linear = DecisionTreeClassifier(criterion = \"gini\", \n",
    "            random_state = 42,ccp_alpha=0.001,max_depth=2)\n",
    "score_5_dt = validation(model_linear, X_train, y_train)\n",
    "model_linear = DecisionTreeClassifier(criterion = \"gini\", \n",
    "            random_state = 42,ccp_alpha=0.01,max_depth=2)\n",
    "score_6_dt = validation(model_linear, X_train, y_train)\n",
    "model_linear = DecisionTreeClassifier(criterion = \"gini\", \n",
    "            random_state = 42,ccp_alpha=0.05,max_depth=2)\n",
    "score_7_dt = validation(model_linear, X_train, y_train)\n"
   ]
  },
  {
   "cell_type": "code",
   "execution_count": 64,
   "metadata": {},
   "outputs": [],
   "source": [
    "score_1_dt=pd.DataFrame.from_dict(score_1_dt)\n",
    "score_2_dt=pd.DataFrame.from_dict(score_2_dt)\n",
    "score_3_dt=pd.DataFrame.from_dict(score_3_dt)\n",
    "score_4_dt=pd.DataFrame.from_dict(score_4_dt)\n",
    "score_5_dt=pd.DataFrame.from_dict(score_5_dt)\n",
    "score_6_dt=pd.DataFrame.from_dict(score_6_dt)\n",
    "score_7_dt=pd.DataFrame.from_dict(score_7_dt)\n"
   ]
  },
  {
   "cell_type": "code",
   "execution_count": 65,
   "metadata": {
    "scrolled": true
   },
   "outputs": [
    {
     "data": {
      "text/html": [
       "<div>\n",
       "<style scoped>\n",
       "    .dataframe tbody tr th:only-of-type {\n",
       "        vertical-align: middle;\n",
       "    }\n",
       "\n",
       "    .dataframe tbody tr th {\n",
       "        vertical-align: top;\n",
       "    }\n",
       "\n",
       "    .dataframe thead th {\n",
       "        text-align: right;\n",
       "    }\n",
       "</style>\n",
       "<table border=\"1\" class=\"dataframe\">\n",
       "  <thead>\n",
       "    <tr style=\"text-align: right;\">\n",
       "      <th></th>\n",
       "      <th>fit_time</th>\n",
       "      <th>score_time</th>\n",
       "      <th>test_score</th>\n",
       "      <th>train_score</th>\n",
       "    </tr>\n",
       "  </thead>\n",
       "  <tbody>\n",
       "    <tr>\n",
       "      <td>0</td>\n",
       "      <td>0.038918</td>\n",
       "      <td>0.000997</td>\n",
       "      <td>0.989474</td>\n",
       "      <td>0.990366</td>\n",
       "    </tr>\n",
       "    <tr>\n",
       "      <td>1</td>\n",
       "      <td>0.039830</td>\n",
       "      <td>0.000997</td>\n",
       "      <td>0.994731</td>\n",
       "      <td>0.989615</td>\n",
       "    </tr>\n",
       "    <tr>\n",
       "      <td>2</td>\n",
       "      <td>0.039893</td>\n",
       "      <td>0.000998</td>\n",
       "      <td>0.984194</td>\n",
       "      <td>0.990969</td>\n",
       "    </tr>\n",
       "    <tr>\n",
       "      <td>3</td>\n",
       "      <td>0.038926</td>\n",
       "      <td>0.000000</td>\n",
       "      <td>0.987355</td>\n",
       "      <td>0.990819</td>\n",
       "    </tr>\n",
       "    <tr>\n",
       "      <td>4</td>\n",
       "      <td>0.037927</td>\n",
       "      <td>0.000989</td>\n",
       "      <td>0.989463</td>\n",
       "      <td>0.990518</td>\n",
       "    </tr>\n",
       "    <tr>\n",
       "      <td>5</td>\n",
       "      <td>0.037899</td>\n",
       "      <td>0.000000</td>\n",
       "      <td>0.991570</td>\n",
       "      <td>0.990217</td>\n",
       "    </tr>\n",
       "    <tr>\n",
       "      <td>6</td>\n",
       "      <td>0.037928</td>\n",
       "      <td>0.000984</td>\n",
       "      <td>0.987355</td>\n",
       "      <td>0.990668</td>\n",
       "    </tr>\n",
       "    <tr>\n",
       "      <td>7</td>\n",
       "      <td>0.037968</td>\n",
       "      <td>0.000998</td>\n",
       "      <td>0.991570</td>\n",
       "      <td>0.990217</td>\n",
       "    </tr>\n",
       "  </tbody>\n",
       "</table>\n",
       "</div>"
      ],
      "text/plain": [
       "   fit_time  score_time  test_score  train_score\n",
       "0  0.038918    0.000997    0.989474     0.990366\n",
       "1  0.039830    0.000997    0.994731     0.989615\n",
       "2  0.039893    0.000998    0.984194     0.990969\n",
       "3  0.038926    0.000000    0.987355     0.990819\n",
       "4  0.037927    0.000989    0.989463     0.990518\n",
       "5  0.037899    0.000000    0.991570     0.990217\n",
       "6  0.037928    0.000984    0.987355     0.990668\n",
       "7  0.037968    0.000998    0.991570     0.990217"
      ]
     },
     "execution_count": 65,
     "metadata": {},
     "output_type": "execute_result"
    }
   ],
   "source": [
    "score_2_dt"
   ]
  },
  {
   "cell_type": "code",
   "execution_count": 66,
   "metadata": {},
   "outputs": [],
   "source": [
    "s1_dt_train=[score_1_dt[['train_score']].mean(axis=0),score_2_dt[['train_score']].mean(axis=0),\n",
    "                score_3_dt[['train_score']].mean(axis=0),score_4_dt[['train_score']].mean(axis=0),score_5_dt[['train_score']].mean(axis=0),\n",
    "            score_6_dt[['train_score']].mean(axis=0),score_7_dt[['train_score']].mean(axis=0)]  \n",
    "\n",
    "s1_dt_test=[score_1_dt[['test_score']].mean(axis=0),score_2_dt[['test_score']].mean(axis=0),\n",
    "                score_3_dt[['test_score']].mean(axis=0),score_4_dt[['test_score']].mean(axis=0),score_5_dt[['test_score']].mean(axis=0),\n",
    "           score_6_dt[['test_score']].mean(axis=0),score_7_dt[['test_score']].mean(axis=0)]  \n"
   ]
  },
  {
   "cell_type": "code",
   "execution_count": 67,
   "metadata": {
    "scrolled": true
   },
   "outputs": [
    {
     "data": {
      "image/png": "[encoded data removed]",
      "text/plain": [
       "<Figure size 432x288 with 1 Axes>"
      ]
     },
     "metadata": {
      "needs_background": "light"
     },
     "output_type": "display_data"
    }
   ],
   "source": [
    "CC_alpha=[0.0000001,0.000001,0.00001,0.0001,0.001,0.01,0.05]\n",
    "def train_cv_plot_dt(c,s1_linear_train,s1_linear_test):\n",
    "    plt.plot(c,s1_linear_train,label='train',marker='d',markersize=4)\n",
    "    plt.plot(c,s1_linear_test,label='cv',marker='d',markersize=4,color='r')\n",
    "    plt.xlabel(\"cc_aplha\")\n",
    "    plt.ylabel(\"Accuracy\")\n",
    "    plt.legend(loc='best')\n",
    "    plt.title(\"Train and CrossValidation accuracy for Decision Tree as a function of cc_alpha\")\n",
    "train_cv_plot_dt(CC_alpha,s1_dt_train,s1_dt_test)"
   ]
  },
  {
   "cell_type": "code",
   "execution_count": 68,
   "metadata": {},
   "outputs": [],
   "source": [
    "from sklearn.metrics import mean_squared_error"
   ]
  },
  {
   "cell_type": "code",
   "execution_count": 69,
   "metadata": {
    "scrolled": false
   },
   "outputs": [
    {
     "name": "stdout",
     "output_type": "stream",
     "text": [
      "Confusion Matrix is:  [[1797    8]\n",
      " [  16   78]]\n",
      "Accuracy Score is:  98.73617693522907\n",
      "Classsification Report is:                precision    recall  f1-score   support\n",
      "\n",
      "           0       0.99      1.00      0.99      1805\n",
      "           1       0.91      0.83      0.87        94\n",
      "\n",
      "    accuracy                           0.99      1899\n",
      "   macro avg       0.95      0.91      0.93      1899\n",
      "weighted avg       0.99      0.99      0.99      1899\n",
      "\n",
      "Confusion Matrix is:  [[1797    8]\n",
      " [  16   78]]\n",
      "Accuracy Score is:  98.73617693522907\n",
      "Classsification Report is:                precision    recall  f1-score   support\n",
      "\n",
      "           0       0.99      1.00      0.99      1805\n",
      "           1       0.91      0.83      0.87        94\n",
      "\n",
      "    accuracy                           0.99      1899\n",
      "   macro avg       0.95      0.91      0.93      1899\n",
      "weighted avg       0.99      0.99      0.99      1899\n",
      "\n",
      "Confusion Matrix is:  [[1797    8]\n",
      " [  16   78]]\n",
      "Accuracy Score is:  98.73617693522907\n",
      "Classsification Report is:                precision    recall  f1-score   support\n",
      "\n",
      "           0       0.99      1.00      0.99      1805\n",
      "           1       0.91      0.83      0.87        94\n",
      "\n",
      "    accuracy                           0.99      1899\n",
      "   macro avg       0.95      0.91      0.93      1899\n",
      "weighted avg       0.99      0.99      0.99      1899\n",
      "\n",
      "Confusion Matrix is:  [[1797    8]\n",
      " [  16   78]]\n",
      "Accuracy Score is:  98.73617693522907\n",
      "Classsification Report is:                precision    recall  f1-score   support\n",
      "\n",
      "           0       0.99      1.00      0.99      1805\n",
      "           1       0.91      0.83      0.87        94\n",
      "\n",
      "    accuracy                           0.99      1899\n",
      "   macro avg       0.95      0.91      0.93      1899\n",
      "weighted avg       0.99      0.99      0.99      1899\n",
      "\n",
      "Confusion Matrix is:  [[1797    8]\n",
      " [  16   78]]\n",
      "Accuracy Score is:  98.73617693522907\n",
      "Classsification Report is:                precision    recall  f1-score   support\n",
      "\n",
      "           0       0.99      1.00      0.99      1805\n",
      "           1       0.91      0.83      0.87        94\n",
      "\n",
      "    accuracy                           0.99      1899\n",
      "   macro avg       0.95      0.91      0.93      1899\n",
      "weighted avg       0.99      0.99      0.99      1899\n",
      "\n",
      "Confusion Matrix is:  [[1797    8]\n",
      " [  16   78]]\n",
      "Accuracy Score is:  98.73617693522907\n",
      "Classsification Report is:                precision    recall  f1-score   support\n",
      "\n",
      "           0       0.99      1.00      0.99      1805\n",
      "           1       0.91      0.83      0.87        94\n",
      "\n",
      "    accuracy                           0.99      1899\n",
      "   macro avg       0.95      0.91      0.93      1899\n",
      "weighted avg       0.99      0.99      0.99      1899\n",
      "\n",
      "Confusion Matrix is:  [[1797    8]\n",
      " [  16   78]]\n",
      "Accuracy Score is:  98.73617693522907\n",
      "Classsification Report is:                precision    recall  f1-score   support\n",
      "\n",
      "           0       0.99      1.00      0.99      1805\n",
      "           1       0.91      0.83      0.87        94\n",
      "\n",
      "    accuracy                           0.99      1899\n",
      "   macro avg       0.95      0.91      0.93      1899\n",
      "weighted avg       0.99      0.99      0.99      1899\n",
      "\n",
      "Confusion Matrix is:  [[1797    8]\n",
      " [  16   78]]\n",
      "Accuracy Score is:  98.73617693522907\n",
      "Classsification Report is:                precision    recall  f1-score   support\n",
      "\n",
      "           0       0.99      1.00      0.99      1805\n",
      "           1       0.91      0.83      0.87        94\n",
      "\n",
      "    accuracy                           0.99      1899\n",
      "   macro avg       0.95      0.91      0.93      1899\n",
      "weighted avg       0.99      0.99      0.99      1899\n",
      "\n"
     ]
    }
   ],
   "source": [
    "C=[0.00001,0.00005,0.0001,0.0005,0.001,0.005,0.01,0.05]\n",
    "tree_depth=[]\n",
    "tree_acc=[]\n",
    "# for i in CC_alpha:\n",
    "#     clf_gini1 = DecisionTreeClassifier(criterion = \"gini\", random_state = 42,ccp_alpha=i)\n",
    "#     clf_gini_.fit(X_train, y_train)\n",
    "#     y1_pred_tree = prediction(X_test, clf_gini)\n",
    "#     print(accuracy(y_test, y_pred_tree))\n",
    "# #     print(clf_gini1.tree_.max_depth)\n",
    "#     ccp_alpha_list.append(clf_gini1)\n",
    "for i in C:\n",
    "    clf_gini_ = DecisionTreeClassifier(criterion = \"gini\", random_state = 100,ccp_alpha=i,max_depth=2)\n",
    "    clf_gini_.fit(X_train, y_train) \n",
    "    y1_pred_tree = prediction(X_test, clf_gini)\n",
    "    tree_acc.append(accuracy(y_test, y_pred_tree))\n",
    "    tree_depth.append(clf_gini_.tree_.max_depth)"
   ]
  },
  {
   "cell_type": "code",
   "execution_count": 70,
   "metadata": {},
   "outputs": [
    {
     "data": {
      "image/png": "[encoded data removed]",
      "text/plain": [
       "<Figure size 432x288 with 1 Axes>"
      ]
     },
     "metadata": {
      "needs_background": "light"
     },
     "output_type": "display_data"
    }
   ],
   "source": [
    "plt.plot(C,tree_depth,c='g')\n",
    "plt.xlabel('ccp_aplha')\n",
    "plt.ylabel('tree depth')\n",
    "plt.show()"
   ]
  },
  {
   "cell_type": "code",
   "execution_count": 71,
   "metadata": {
    "scrolled": true
   },
   "outputs": [
    {
     "name": "stdout",
     "output_type": "stream",
     "text": [
      "Confusion Matrix is:  [[1797    8]\n",
      " [  16   78]]\n",
      "Accuracy Score is:  98.73617693522907\n",
      "Classsification Report is:                precision    recall  f1-score   support\n",
      "\n",
      "           0       0.99      1.00      0.99      1805\n",
      "           1       0.91      0.83      0.87        94\n",
      "\n",
      "    accuracy                           0.99      1899\n",
      "   macro avg       0.95      0.91      0.93      1899\n",
      "weighted avg       0.99      0.99      0.99      1899\n",
      "\n",
      "None\n"
     ]
    }
   ],
   "source": [
    "clf_gini_ = DecisionTreeClassifier(criterion = \"gini\", random_state = 100, max_depth=2,ccp_alpha=0.00001)\n",
    "clf_gini_.fit(X_train, y_train) \n",
    "y1_pred_tree = prediction(X_test, clf_gini)\n",
    "print(accuracy(y_test, y_pred_tree))\n",
    "\n",
    "# print(clf_gini_.tree_.max_depth)\n",
    "# clf.gin"
   ]
  },
  {
   "cell_type": "code",
   "execution_count": 72,
   "metadata": {},
   "outputs": [
    {
     "name": "stdout",
     "output_type": "stream",
     "text": [
      "Accuracy on training set: 99.59172922428553\n",
      "Accuracy on test set: 98.73617693522907\n"
     ]
    }
   ],
   "source": [
    "print(\"Accuracy on training set:\",clf_gini.score(X_train, y_train)*100)\n",
    "print(\"Accuracy on test set:\",clf_gini.score(X_test, y_test)*100)"
   ]
  },
  {
   "cell_type": "code",
   "execution_count": 73,
   "metadata": {},
   "outputs": [
    {
     "data": {
      "image/png": "[encoded data removed]",
      "text/plain": [
       "<Figure size 432x288 with 1 Axes>"
      ]
     },
     "metadata": {
      "needs_background": "light"
     },
     "output_type": "display_data"
    }
   ],
   "source": [
    "test_accuracy = []\n",
    "train_accuracy = []\n",
    "depth = []\n",
    "for i in range(1,clf_gini.tree_.max_depth):\n",
    "    clf_gini_1 = train_using_gini(X_train, y_train, i)\n",
    "    y_pred_tree_test = prediction(X_test, clf_gini_1)\n",
    "    y_pred_tree_train = prediction(X_train, clf_gini_1)\n",
    "    test_accuracy.append(accuracy_score(y_test,y_pred_tree_test)*100)\n",
    "    train_accuracy.append(accuracy_score(y_train,y_pred_tree_train)*100)\n",
    "    depth.append(i)\n",
    "    \n",
    "plt.xlabel('Depth')\n",
    "plt.ylabel('Accuracy')\n",
    "plt.plot(depth,train_accuracy, label='train',marker='o')\n",
    "plt.plot(depth,test_accuracy, label='test',marker='o',color='r')\n",
    "plt.legend(loc='best')\n",
    "plt.show()"
   ]
  },
  {
   "cell_type": "code",
   "execution_count": 74,
   "metadata": {},
   "outputs": [
    {
     "data": {
      "image/png": "[encoded data removed]",
      "text/plain": [
       "<Figure size 432x288 with 1 Axes>"
      ]
     },
     "metadata": {
      "needs_background": "light"
     },
     "output_type": "display_data"
    }
   ],
   "source": [
    "CC_alpha=[0.0000001,0.000001,0.00001,0.0001,0.001,0.01,0.05]\n",
    "def train_cv_plot_dt(c,s1_linear_train,s1_linear_test):\n",
    "    plt.plot(c,s1_linear_train,label='train',marker='d',markersize=4)\n",
    "    plt.plot(c,s1_linear_test,label='cv',marker='d',markersize=4,color='r')\n",
    "    plt.xlabel(\"cc_aplha\")\n",
    "    plt.ylabel(\"Accuracy\")\n",
    "    plt.legend(loc='best')\n",
    "    plt.title(\"Train and CrossValidation accuracy for Decision Tree as a function of cc_alpha\")\n",
    "train_cv_plot_dt(CC_alpha,s1_dt_train,s1_dt_test)"
   ]
  },
  {
   "cell_type": "markdown",
   "metadata": {},
   "source": [
    "# AdaBoost"
   ]
  },
  {
   "cell_type": "code",
   "execution_count": 75,
   "metadata": {},
   "outputs": [],
   "source": [
    "regr_1 = DecisionTreeRegressor(max_depth=4)\n",
    "# y_1 = regr_1.predict(X_train)\n"
   ]
  },
  {
   "cell_type": "code",
   "execution_count": 76,
   "metadata": {},
   "outputs": [
    {
     "data": {
      "text/plain": [
       "0.9899947340705635"
      ]
     },
     "execution_count": 76,
     "metadata": {},
     "output_type": "execute_result"
    }
   ],
   "source": [
    "clf = AdaBoostClassifier(n_estimators=100, random_state=0)\n",
    "clf.fit(X_train, y_train)\n",
    "AdaBoostClassifier(n_estimators=100, random_state=0)\n",
    "\n",
    "clf.predict(X_test)\n",
    "\n",
    "clf.score(X_test, y_test)"
   ]
  },
  {
   "cell_type": "code",
   "execution_count": 78,
   "metadata": {},
   "outputs": [],
   "source": [
    "def plot_error_rate(er_train, er_test):\n",
    "    df_error = pd.DataFrame([er_train, er_test]).T\n",
    "    df_error.columns = ['Training', 'Test']\n",
    "    plot1 = df_error.plot(linewidth = 3, figsize = (8,6),\n",
    "            color = ['lightblue', 'darkblue'], grid = True)\n",
    "    plot1.set_xlabel('Number of iterations', fontsize = 12)\n",
    "    plot1.set_xticklabels(range(0,450,50))\n",
    "    plot1.set_ylabel('Error rate', fontsize = 12)\n",
    "    plot1.set_title('Error rate vs number of iterations', fontsize = 16)\n",
    "    plt.axhline(y=er_test[0], linewidth=1, color = 'red', ls = 'dashed')"
   ]
  },
  {
   "cell_type": "code",
   "execution_count": 79,
   "metadata": {},
   "outputs": [],
   "source": [
    "ErrorRate_train=[]\n",
    "ErrorRate_test=[]\n",
    "x_range=range(10,200,15)\n",
    "for i in x_range:\n",
    "    regr_2 = AdaBoostClassifier(DecisionTreeClassifier(max_depth=5),\n",
    "                          n_estimators=i, random_state=23)\n",
    "    regr_2.fit(X_train,y_train)\n",
    "    pred_train=regr_2.predict(X_train)\n",
    "    pred_test=regr_2.predict(X_test)\n",
    "    error_rate_train=sum(pred_train != y_train) / float(len(y_train))\n",
    "    error_rate_test=sum(pred_test != y_test) / float(len(y_test))\n",
    "    ErrorRate_train.append(error_rate_train)\n",
    "    ErrorRate_test.append(error_rate_test)"
   ]
  },
  {
   "cell_type": "code",
   "execution_count": 80,
   "metadata": {
    "scrolled": false
   },
   "outputs": [
    {
     "data": {
      "text/plain": [
       "Text(0, 0.5, 'Error rate test')"
      ]
     },
     "execution_count": 80,
     "metadata": {},
     "output_type": "execute_result"
    },
    {
     "data": {
      "image/png": "[encoded data removed]",
      "text/plain": [
       "<Figure size 432x288 with 1 Axes>"
      ]
     },
     "metadata": {
      "needs_background": "light"
     },
     "output_type": "display_data"
    }
   ],
   "source": [
    "# plot_error_rate(ErrorRate_train, ErrorRate_test)\n",
    "plt.plot(x_range,ErrorRate_test, marker=\"o\", color='blue',animated=True)\n",
    "plt.xlabel('n_estimator values')\n",
    "plt.ylabel('Error rate test')\n",
    "# ErrorRate_test"
   ]
  },
  {
   "cell_type": "code",
   "execution_count": 81,
   "metadata": {},
   "outputs": [],
   "source": [
    "ErrorRate_train_1=[]\n",
    "ErrorRate_test_1=[]\n",
    "x_range_1=range(2,20,2)\n",
    "for i in x_range_1:\n",
    "    regr_2 = AdaBoostClassifier(DecisionTreeClassifier(max_depth=i),\n",
    "                          n_estimators=120, random_state=23)\n",
    "    regr_2.fit(X_train,y_train)\n",
    "    pred_train=regr_2.predict(X_train)\n",
    "    pred_test=regr_2.predict(X_test)\n",
    "    error_rate_train=sum(pred_train != y_train) / float(len(y_train))\n",
    "    error_rate_test=sum(pred_test != y_test) / float(len(y_test))\n",
    "    ErrorRate_train_1.append(error_rate_train)\n",
    "    ErrorRate_test_1.append(error_rate_test)"
   ]
  },
  {
   "cell_type": "code",
   "execution_count": 82,
   "metadata": {},
   "outputs": [
    {
     "data": {
      "text/plain": [
       "Text(0, 0.5, 'Error rate test')"
      ]
     },
     "execution_count": 82,
     "metadata": {},
     "output_type": "execute_result"
    },
    {
     "data": {
      "image/png": "[encoded data removed]",
      "text/plain": [
       "<Figure size 432x288 with 1 Axes>"
      ]
     },
     "metadata": {
      "needs_background": "light"
     },
     "output_type": "display_data"
    }
   ],
   "source": [
    "# plot_error_rate(ErrorRate_train, ErrorRate_test)\n",
    "plt.plot(x_range_1,ErrorRate_test_1, marker=\"o\", color='blue')\n",
    "plt.xlabel('max_depth values')\n",
    "plt.ylabel('Error rate test')\n",
    "# ErrorRate_test"
   ]
  },
  {
   "cell_type": "code",
   "execution_count": 83,
   "metadata": {},
   "outputs": [],
   "source": [
    "ada_clf = AdaBoostClassifier(DecisionTreeClassifier(max_depth=4),\n",
    "                          n_estimators=90, random_state=23)\n",
    "ada_clf.fit(X_train,y_train)\n",
    "pred_train=ada_clf.predict(X_train)\n",
    "pred_test=ada_clf.predict(X_test)"
   ]
  },
  {
   "cell_type": "markdown",
   "metadata": {},
   "source": [
    "#### n_estimators> 105 shoes are constant lower error rate"
   ]
  },
  {
   "cell_type": "code",
   "execution_count": 84,
   "metadata": {},
   "outputs": [
    {
     "name": "stdout",
     "output_type": "stream",
     "text": [
      "Confusion Matrix is:  [[1804    1]\n",
      " [  17   77]]\n",
      "Accuracy Score is:  99.0521327014218\n",
      "Classsification Report is:                precision    recall  f1-score   support\n",
      "\n",
      "           0       0.99      1.00      1.00      1805\n",
      "           1       0.99      0.82      0.90        94\n",
      "\n",
      "    accuracy                           0.99      1899\n",
      "   macro avg       0.99      0.91      0.95      1899\n",
      "weighted avg       0.99      0.99      0.99      1899\n",
      "\n",
      "None\n"
     ]
    }
   ],
   "source": [
    "print(accuracy(y_test, pred_test))"
   ]
  },
  {
   "cell_type": "code",
   "execution_count": 85,
   "metadata": {
    "scrolled": true
   },
   "outputs": [
    {
     "name": "stdout",
     "output_type": "stream",
     "text": [
      "AUC score for train set: 1.0\n",
      "AUC score for test set: 0.9092974597748571\n"
     ]
    }
   ],
   "source": [
    "from sklearn.metrics import roc_auc_score\n",
    "print('AUC score for train set:',roc_auc_score(y_train, pred_train))\n",
    "print('AUC score for test set:',roc_auc_score(y_test, pred_test))"
   ]
  },
  {
   "cell_type": "markdown",
   "metadata": {},
   "source": [
    "# Comparison between the models"
   ]
  },
  {
   "cell_type": "code",
   "execution_count": 86,
   "metadata": {},
   "outputs": [],
   "source": [
    "# y_pred_linear=clf_linear_1.predict(X_test)\n",
    "# y_pred_rbf=clf_rbf_1.predict(X_test)\n",
    "# y_pred_sigmoid=clf_sigmoid_1.predict(X_test)\n",
    "# y1_pred_tree\n",
    "# pred_test"
   ]
  },
  {
   "cell_type": "code",
   "execution_count": 87,
   "metadata": {
    "scrolled": true
   },
   "outputs": [],
   "source": [
    "accuracy=[accuracy_score(y_test,y_pred_linear),accuracy_score(y_test,y_pred_rbf),accuracy_score(y_test,y_pred_sigmoid),accuracy_score(y_test,y_pred_tree),accuracy_score(y_test,pred_test)]\n",
    "Functions=['SVM_Linear','SVM_RBF','SVM_Sigmoid','Decision_tree','Adaboost']"
   ]
  },
  {
   "cell_type": "code",
   "execution_count": 88,
   "metadata": {},
   "outputs": [
    {
     "data": {
      "text/plain": [
       "(0.9, 1)"
      ]
     },
     "execution_count": 88,
     "metadata": {},
     "output_type": "execute_result"
    },
    {
     "data": {
      "image/png": "[encoded data removed]",
      "text/plain": [
       "<Figure size 432x288 with 1 Axes>"
      ]
     },
     "metadata": {
      "needs_background": "light"
     },
     "output_type": "display_data"
    }
   ],
   "source": [
    "plt.barh(Functions,accuracy,alpha=1, edgecolor='black')\n",
    "plt.xlabel(\"Accuracy\")\n",
    "plt.ylabel(\"Learning Algorithms\")\n",
    "plt.title(\"Comparison of Accuracy between all the Algorithms\")\n",
    "plt.xlim([0.9, 1])"
   ]
  },
  {
   "cell_type": "markdown",
   "metadata": {},
   "source": [
    "# Learning Curve"
   ]
  },
  {
   "cell_type": "code",
   "execution_count": 89,
   "metadata": {},
   "outputs": [
    {
     "data": {
      "text/plain": [
       "<module 'matplotlib.pyplot' from 'C:\\\\Users\\\\14692\\\\Anaconda3\\\\lib\\\\site-packages\\\\matplotlib\\\\pyplot.py'>"
      ]
     },
     "execution_count": 89,
     "metadata": {},
     "output_type": "execute_result"
    },
    {
     "data": {
      "image/png": "[encoded data removed]",
      "text/plain": [
       "<Figure size 432x288 with 1 Axes>"
      ]
     },
     "metadata": {
      "needs_background": "light"
     },
     "output_type": "display_data"
    }
   ],
   "source": [
    "from sklearn.model_selection import learning_curve\n",
    "from sklearn.model_selection import ShuffleSplit\n",
    "def plot_learning_curve(estimator, title, X, y, ylim=None, cv=None, n_jobs=None, train_sizes=np.linspace(.1, 1.0, 5)):\n",
    "    plt.figure()\n",
    "    plt.title(title)\n",
    "    if ylim is not None:\n",
    "        plt.ylim(*ylim)\n",
    "    plt.xlabel(\"Training examples\")\n",
    "    plt.ylabel(\"Score\")\n",
    "    train_sizes, train_scores, test_scores = learning_curve(\n",
    "        estimator, X, y, cv=cv, n_jobs=n_jobs, train_sizes=train_sizes)\n",
    "    train_scores_mean = np.mean(train_scores, axis=1)\n",
    "    train_scores_std = np.std(train_scores, axis=1)\n",
    "    test_scores_mean = np.mean(test_scores, axis=1)\n",
    "    test_scores_std = np.std(test_scores, axis=1)\n",
    "    plt.grid()\n",
    "\n",
    "    plt.fill_between(train_sizes, train_scores_mean - train_scores_std,\n",
    "                     train_scores_mean + train_scores_std, alpha=0.1,\n",
    "                     color=\"r\")\n",
    "    plt.fill_between(train_sizes, test_scores_mean - test_scores_std,\n",
    "                     test_scores_mean + test_scores_std, alpha=0.1, color=\"b\")\n",
    "    plt.plot(train_sizes, train_scores_mean, 'o-', color=\"r\",\n",
    "             label=\"Training score\")\n",
    "    plt.plot(train_sizes, test_scores_mean, 'o-', color=\"b\",\n",
    "             label=\"Cross-validation score\")\n",
    "\n",
    "    plt.legend(loc=\"best\")\n",
    "    return plt\n",
    "title = \"Learning Curves(SVM-Linear)\"\n",
    "estimator = svm.SVC(kernel='linear', C=0.1)\n",
    "plot_learning_curve(estimator, title, X_train, y_train, ylim=(0.988, 0.993))"
   ]
  },
  {
   "cell_type": "code",
   "execution_count": 90,
   "metadata": {},
   "outputs": [
    {
     "data": {
      "text/plain": [
       "<module 'matplotlib.pyplot' from 'C:\\\\Users\\\\14692\\\\Anaconda3\\\\lib\\\\site-packages\\\\matplotlib\\\\pyplot.py'>"
      ]
     },
     "execution_count": 90,
     "metadata": {},
     "output_type": "execute_result"
    },
    {
     "data": {
      "image/png": "[encoded data removed]",
      "text/plain": [
       "<Figure size 432x288 with 1 Axes>"
      ]
     },
     "metadata": {
      "needs_background": "light"
     },
     "output_type": "display_data"
    }
   ],
   "source": [
    "title = \"Learning Curves(Decision Tree with Depth=2)\"\n",
    "estimator = DecisionTreeClassifier(criterion=\"gini\",max_depth=2,ccp_alpha=0.00001)\n",
    "plot_learning_curve(estimator, title, X_train, y_train, ylim=(0.98, 0.999))"
   ]
  },
  {
   "cell_type": "code",
   "execution_count": 91,
   "metadata": {},
   "outputs": [
    {
     "data": {
      "text/plain": [
       "<module 'matplotlib.pyplot' from 'C:\\\\Users\\\\14692\\\\Anaconda3\\\\lib\\\\site-packages\\\\matplotlib\\\\pyplot.py'>"
      ]
     },
     "execution_count": 91,
     "metadata": {},
     "output_type": "execute_result"
    },
    {
     "data": {
      "image/png": "[encoded data removed]",
      "text/plain": [
       "<Figure size 432x288 with 1 Axes>"
      ]
     },
     "metadata": {
      "needs_background": "light"
     },
     "output_type": "display_data"
    }
   ],
   "source": [
    "title = \"Learning Curves(Adaboost with Depth=2)\"\n",
    "tree_clf = DecisionTreeClassifier(max_depth=2,ccp_alpha=0.00001)\n",
    "estimator = AdaBoostClassifier(n_estimators=150, base_estimator=tree_clf, learning_rate = 0.01)\n",
    "plot_learning_curve(estimator, title, X_train, y_train, ylim=(0.98, 0.999))"
   ]
  }
 ],
 "metadata": {
  "kernelspec": {
   "display_name": "Python 3",
   "language": "python",
   "name": "python3"
  },
  "language_info": {
   "codemirror_mode": {
    "name": "ipython",
    "version": 3
   },
   "file_extension": ".py",
   "mimetype": "text/x-python",
   "name": "python",
   "nbconvert_exporter": "python",
   "pygments_lexer": "ipython3",
   "version": "3.7.4"
  }
 },
 "nbformat": 4,
 "nbformat_minor": 2
}
